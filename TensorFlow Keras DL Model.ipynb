{
 "cells": [
  {
   "cell_type": "code",
   "execution_count": 3,
   "metadata": {},
   "outputs": [],
   "source": [
    "import tensorflow as tf\n",
    "from tensorflow import keras\n",
    "from sklearn import preprocessing\n",
    "\n",
    "import os\n",
    "import tempfile\n",
    "\n",
    "import matplotlib as mpl\n",
    "import matplotlib.pyplot as plt\n",
    "import numpy as np\n",
    "import pandas as pd\n",
    "import seaborn as sns\n",
    "\n",
    "import sklearn\n",
    "from sklearn.metrics import confusion_matrix\n",
    "from sklearn.model_selection import train_test_split\n",
    "from sklearn.preprocessing import StandardScaler"
   ]
  },
  {
   "cell_type": "code",
   "execution_count": 4,
   "metadata": {},
   "outputs": [],
   "source": [
    "mpl.rcParams['figure.figsize'] = (12, 10)\n",
    "colors = plt.rcParams['axes.prop_cycle'].by_key()['color']"
   ]
  },
  {
   "cell_type": "markdown",
   "metadata": {},
   "source": [
    "# 1. Introduction"
   ]
  },
  {
   "cell_type": "markdown",
   "metadata": {},
   "source": [
    "We are going to build a deep neural network in order to predict if fraud is being comitted. "
   ]
  },
  {
   "cell_type": "code",
   "execution_count": 6,
   "metadata": {},
   "outputs": [],
   "source": [
    "dataset = pd.read_csv('clean_fraud_dataset.csv')"
   ]
  },
  {
   "cell_type": "code",
   "execution_count": 7,
   "metadata": {},
   "outputs": [],
   "source": [
    "Y = dataset[\"isFraud\"]\n",
    "X = dataset.drop([\"isFraud\", \"isFlaggedFraud\"], axis = 1)"
   ]
  },
  {
   "cell_type": "code",
   "execution_count": 8,
   "metadata": {},
   "outputs": [],
   "source": [
    "X_train, X_test, Y_train, Y_test = train_test_split(X, Y, test_size=0.2, random_state=42)\n",
    "X_dev, X_test, Y_dev, Y_test = train_test_split(X_test, Y_test, test_size=0.5, random_state=42)\n",
    "\n",
    "# In deep learning we would use a smaller test size, but here for computation reasons we work with a \n",
    "# smaller training set and an overly large test set"
   ]
  },
  {
   "cell_type": "raw",
   "metadata": {},
   "source": [
    "m_train = Y_train.shape[0]\n",
    "m_test = Y_test.shape[0]\n",
    "m_dev = Y_dev.shape[0]\n",
    "\n",
    "Y_train = Y_train.values.reshape(1, m_train)\n",
    "Y_test = Y_test.values.reshape(1, m_test)\n",
    "Y_dev = Y_dev.values.reshape(1, m_test)\n",
    "\n",
    "X_train = X_train.T\n",
    "X_test = X_test.T\n",
    "X_dev = X_dev.T"
   ]
  },
  {
   "cell_type": "code",
   "execution_count": 9,
   "metadata": {},
   "outputs": [],
   "source": [
    "X_train = preprocessing.scale(X_train)\n",
    "X_test = preprocessing.scale(X_test)\n",
    "X_dev = preprocessing.scale(X_dev)"
   ]
  },
  {
   "cell_type": "markdown",
   "metadata": {},
   "source": [
    "# 2. Setting up Neural Network"
   ]
  },
  {
   "cell_type": "code",
   "execution_count": 10,
   "metadata": {},
   "outputs": [],
   "source": [
    "METRICS = [\n",
    "      keras.metrics.TruePositives(name='tp'),\n",
    "      keras.metrics.FalsePositives(name='fp'),\n",
    "      keras.metrics.TrueNegatives(name='tn'),\n",
    "      keras.metrics.FalseNegatives(name='fn'), \n",
    "      keras.metrics.BinaryAccuracy(name='accuracy'),\n",
    "      keras.metrics.Precision(name='precision'),\n",
    "      keras.metrics.Recall(name='recall'),\n",
    "      keras.metrics.AUC(name='auc'),\n",
    "]"
   ]
  },
  {
   "cell_type": "code",
   "execution_count": 153,
   "metadata": {},
   "outputs": [],
   "source": [
    "def make_model(metrics = METRICS, output_bias=None):\n",
    "    if output_bias is not None:\n",
    "        output_bias = tf.keras.initializers.Constant(output_bias)\n",
    "    \n",
    "    model = keras.Sequential([keras.layers.Dense(16, \n",
    "                                                 activation='relu',\n",
    "                                                 input_shape=(X_train.shape[-1],)), \n",
    "                              keras.layers.Dropout(0.), \n",
    "                              keras.layers.Dense(1, activation='sigmoid', bias_initializer=output_bias),])\n",
    "    \n",
    "    model.compile(optimizer=keras.optimizers.Adam(lr=5e-3), #begonnen aan 1e-3\n",
    "                  loss=keras.losses.BinaryCrossentropy(), \n",
    "                  metrics=metrics)\n",
    "    \n",
    "    return model"
   ]
  },
  {
   "cell_type": "raw",
   "metadata": {},
   "source": [
    "def make_model(metrics = METRICS, output_bias=None):\n",
    "    \n",
    "    model = keras.Sequential()\n",
    "    model.add(keras.layers.Dense(16, input_shape=(X_train.shape[-1],), activation='relu'))\n",
    "    model.add(keras.layers.Dropout(0.5))\n",
    "    model.add(keras.layers.Dense(8, activation='relu'))\n",
    "    model.add(keras.layers.Dropout(0.5))\n",
    "    model.add(keras.layers.Dense(1, activation='sigmoid'))\n",
    "    \n",
    "    model.compile(optimizer=keras.optimizers.Adam(lr=1e-3), #begonnen aan 1e-3\n",
    "                  loss=keras.losses.BinaryCrossentropy(), \n",
    "                  metrics=metrics)\n",
    "    \n",
    "    return model"
   ]
  },
  {
   "cell_type": "code",
   "execution_count": 154,
   "metadata": {},
   "outputs": [],
   "source": [
    "EPOCHS = 100\n",
    "BATCH_SIZE = 2048\n",
    "\n",
    "early_stopping = tf.keras.callbacks.EarlyStopping(\n",
    "    monitor='val_auc', \n",
    "    verbose=1,\n",
    "    patience=20, # Begonnen aan 10 maar recall en AUC bleven nog verbeteren dus naar 15 gebracht\n",
    "    mode='max',\n",
    "    restore_best_weights=True)"
   ]
  },
  {
   "cell_type": "code",
   "execution_count": 155,
   "metadata": {},
   "outputs": [
    {
     "name": "stdout",
     "output_type": "stream",
     "text": [
      "Model: \"sequential_42\"\n",
      "_________________________________________________________________\n",
      "Layer (type)                 Output Shape              Param #   \n",
      "=================================================================\n",
      "dense_113 (Dense)            (None, 16)                176       \n",
      "_________________________________________________________________\n",
      "dropout_72 (Dropout)         (None, 16)                0         \n",
      "_________________________________________________________________\n",
      "dense_114 (Dense)            (None, 1)                 17        \n",
      "=================================================================\n",
      "Total params: 193\n",
      "Trainable params: 193\n",
      "Non-trainable params: 0\n",
      "_________________________________________________________________\n"
     ]
    }
   ],
   "source": [
    "model = make_model()\n",
    "model.summary()"
   ]
  },
  {
   "cell_type": "code",
   "execution_count": 145,
   "metadata": {},
   "outputs": [
    {
     "data": {
      "text/plain": [
       "array([[0.6017297 ],\n",
       "       [0.79942584],\n",
       "       [0.7900761 ],\n",
       "       [0.78288704],\n",
       "       [0.5156152 ],\n",
       "       [0.80122226],\n",
       "       [0.6096559 ],\n",
       "       [0.80959326],\n",
       "       [0.766242  ],\n",
       "       [0.39094865]], dtype=float32)"
      ]
     },
     "execution_count": 145,
     "metadata": {},
     "output_type": "execute_result"
    }
   ],
   "source": [
    "model.predict(X_train[:10])"
   ]
  },
  {
   "cell_type": "markdown",
   "metadata": {},
   "source": [
    "### Set correct inital bias"
   ]
  },
  {
   "cell_type": "code",
   "execution_count": 146,
   "metadata": {},
   "outputs": [
    {
     "name": "stdout",
     "output_type": "stream",
     "text": [
      "Loss: 1.3688\n"
     ]
    }
   ],
   "source": [
    "results = model.evaluate(X_train, Y_train, batch_size=BATCH_SIZE, verbose=0)\n",
    "print(\"Loss: {:0.4f}\".format(results[0]))"
   ]
  },
  {
   "cell_type": "code",
   "execution_count": 147,
   "metadata": {},
   "outputs": [
    {
     "data": {
      "text/plain": [
       "array([-6.64774739])"
      ]
     },
     "execution_count": 147,
     "metadata": {},
     "output_type": "execute_result"
    }
   ],
   "source": [
    "fraud_distribution = Y_train.value_counts()\n",
    "pos = fraud_distribution[1]\n",
    "neg = fraud_distribution[0]\n",
    "\n",
    "\n",
    "initial_bias = np.log([pos/neg])\n",
    "initial_bias"
   ]
  },
  {
   "cell_type": "code",
   "execution_count": 148,
   "metadata": {},
   "outputs": [
    {
     "data": {
      "text/plain": [
       "array([[0.00161159],\n",
       "       [0.00217878],\n",
       "       [0.00219273],\n",
       "       [0.00130974],\n",
       "       [0.00225351],\n",
       "       [0.00206085],\n",
       "       [0.00217201],\n",
       "       [0.00194333],\n",
       "       [0.00187842],\n",
       "       [0.00326428]], dtype=float32)"
      ]
     },
     "execution_count": 148,
     "metadata": {},
     "output_type": "execute_result"
    }
   ],
   "source": [
    "model = make_model(output_bias = initial_bias)\n",
    "model.predict(X_train[:10])"
   ]
  },
  {
   "cell_type": "code",
   "execution_count": 149,
   "metadata": {},
   "outputs": [
    {
     "name": "stdout",
     "output_type": "stream",
     "text": [
      "Loss: 0.0136\n"
     ]
    }
   ],
   "source": [
    "results = model.evaluate(X_train, Y_train, batch_size=BATCH_SIZE, verbose=0)\n",
    "print(\"Loss: {:0.4f}\".format(results[0]))"
   ]
  },
  {
   "cell_type": "code",
   "execution_count": 150,
   "metadata": {},
   "outputs": [],
   "source": [
    "# To make the various training runs more comparable, keep this initial model's weights \n",
    "# in a checkpoint file, and load them into each model before training.\n",
    "\n",
    "initial_weights = os.path.join(tempfile.mkdtemp(),'initial_weights')\n",
    "model.save_weights(initial_weights)"
   ]
  },
  {
   "cell_type": "markdown",
   "metadata": {},
   "source": [
    "### Confirm that the bias fix helps\n",
    "Before moving on, confirm quick that the careful bias initialization actually helped.\n",
    "\n",
    "Train the model for 20 epochs, with and without this careful initialization, and compare the losses:"
   ]
  },
  {
   "cell_type": "code",
   "execution_count": 106,
   "metadata": {},
   "outputs": [],
   "source": [
    "model = make_model()\n",
    "model.load_weights(initial_weights)\n",
    "model.layers[-1].bias.assign([0.0])\n",
    "zero_bias_history = model.fit(\n",
    "    X_train,\n",
    "    Y_train,\n",
    "    batch_size=BATCH_SIZE,\n",
    "    epochs=20,\n",
    "    validation_data=(X_dev, Y_dev), \n",
    "    verbose=0)"
   ]
  },
  {
   "cell_type": "code",
   "execution_count": 107,
   "metadata": {},
   "outputs": [],
   "source": [
    "model = make_model()\n",
    "model.load_weights(initial_weights)\n",
    "careful_bias_history = model.fit(\n",
    "    X_train,\n",
    "    Y_train,\n",
    "    batch_size=BATCH_SIZE,\n",
    "    epochs=20,\n",
    "    validation_data=(X_dev, Y_dev), \n",
    "    verbose=0)"
   ]
  },
  {
   "cell_type": "code",
   "execution_count": 108,
   "metadata": {},
   "outputs": [],
   "source": [
    "def plot_loss(history, label, n):\n",
    "  # Use a log scale to show the wide range of values.\n",
    "      \n",
    "    plt.semilogy(history.epoch,  history.history['loss'],\n",
    "               color=colors[n], label='Train '+label)\n",
    "  \n",
    "    plt.semilogy(history.epoch,  history.history['val_loss'],\n",
    "          color=colors[n], label='Val '+label,\n",
    "          linestyle=\"--\")\n",
    "    plt.xlabel('Epoch')\n",
    "    \n",
    "    plt.ylabel('Loss')\n",
    "  \n",
    "    plt.legend()"
   ]
  },
  {
   "cell_type": "code",
   "execution_count": 109,
   "metadata": {},
   "outputs": [
    {
     "data": {
      "image/png": "[encoded data removed]",
      "text/plain": [
       "<Figure size 864x720 with 1 Axes>"
      ]
     },
     "metadata": {
      "needs_background": "light"
     },
     "output_type": "display_data"
    }
   ],
   "source": [
    "plot_loss(zero_bias_history, \"Zero Bias\", 0)\n",
    "plot_loss(careful_bias_history, \"Careful Bias\", 1)"
   ]
  },
  {
   "cell_type": "markdown",
   "metadata": {},
   "source": [
    "## Train the model"
   ]
  },
  {
   "cell_type": "code",
   "execution_count": 156,
   "metadata": {},
   "outputs": [
    {
     "name": "stdout",
     "output_type": "stream",
     "text": [
      "Train on 5090096 samples, validate on 636262 samples\n",
      "Epoch 1/100\n",
      "5090096/5090096 [==============================] - 16s 3us/sample - loss: 0.0044 - tp: 2282.0000 - fp: 106.0000 - tn: 5083397.0000 - fn: 4311.0000 - accuracy: 0.9991 - precision: 0.9556 - recall: 0.3461 - auc: 0.8923 - val_loss: 0.0032 - val_tp: 402.0000 - val_fp: 29.0000 - val_tn: 635405.0000 - val_fn: 426.0000 - val_accuracy: 0.9993 - val_precision: 0.9327 - val_recall: 0.4855 - val_auc: 0.9307\n",
      "Epoch 2/100\n",
      "5090096/5090096 [==============================] - 13s 2us/sample - loss: 0.0032 - tp: 3276.0000 - fp: 137.0000 - tn: 5083366.0000 - fn: 3317.0000 - accuracy: 0.9993 - precision: 0.9599 - recall: 0.4969 - auc: 0.9284 - val_loss: 0.0029 - val_tp: 410.0000 - val_fp: 5.0000 - val_tn: 635429.0000 - val_fn: 418.0000 - val_accuracy: 0.9993 - val_precision: 0.9880 - val_recall: 0.4952 - val_auc: 0.9465\n",
      "Epoch 3/100\n",
      "5090096/5090096 [==============================] - 14s 3us/sample - loss: 0.0029 - tp: 3555.0000 - fp: 162.0000 - tn: 5083341.0000 - fn: 3038.0000 - accuracy: 0.9994 - precision: 0.9564 - recall: 0.5392 - auc: 0.9348 - val_loss: 0.0026 - val_tp: 431.0000 - val_fp: 5.0000 - val_tn: 635429.0000 - val_fn: 397.0000 - val_accuracy: 0.9994 - val_precision: 0.9885 - val_recall: 0.5205 - val_auc: 0.9446\n",
      "Epoch 4/100\n",
      "5090096/5090096 [==============================] - 14s 3us/sample - loss: 0.0027 - tp: 3725.0000 - fp: 188.0000 - tn: 5083315.0000 - fn: 2868.0000 - accuracy: 0.9994 - precision: 0.9520 - recall: 0.5650 - auc: 0.9394 - val_loss: 0.0025 - val_tp: 495.0000 - val_fp: 22.0000 - val_tn: 635412.0000 - val_fn: 333.0000 - val_accuracy: 0.9994 - val_precision: 0.9574 - val_recall: 0.5978 - val_auc: 0.9373\n",
      "Epoch 5/100\n",
      "5090096/5090096 [==============================] - 14s 3us/sample - loss: 0.0026 - tp: 3871.0000 - fp: 198.0000 - tn: 5083305.0000 - fn: 2722.0000 - accuracy: 0.9994 - precision: 0.9513 - recall: 0.5871 - auc: 0.9422 - val_loss: 0.0025 - val_tp: 467.0000 - val_fp: 10.0000 - val_tn: 635424.0000 - val_fn: 361.0000 - val_accuracy: 0.9994 - val_precision: 0.9790 - val_recall: 0.5640 - val_auc: 0.9263\n",
      "Epoch 6/100\n",
      "5090096/5090096 [==============================] - 14s 3us/sample - loss: 0.0025 - tp: 3956.0000 - fp: 186.0000 - tn: 5083317.0000 - fn: 2637.0000 - accuracy: 0.9994 - precision: 0.9551 - recall: 0.6000 - auc: 0.9455 - val_loss: 0.0022 - val_tp: 529.0000 - val_fp: 20.0000 - val_tn: 635414.0000 - val_fn: 299.0000 - val_accuracy: 0.9995 - val_precision: 0.9636 - val_recall: 0.6389 - val_auc: 0.9484\n",
      "Epoch 7/100\n",
      "5090096/5090096 [==============================] - 14s 3us/sample - loss: 0.0025 - tp: 4048.0000 - fp: 192.0000 - tn: 5083311.0000 - fn: 2545.0000 - accuracy: 0.9995 - precision: 0.9547 - recall: 0.6140 - auc: 0.9474 - val_loss: 0.0023 - val_tp: 492.0000 - val_fp: 11.0000 - val_tn: 635423.0000 - val_fn: 336.0000 - val_accuracy: 0.9995 - val_precision: 0.9781 - val_recall: 0.5942 - val_auc: 0.9360\n",
      "Epoch 8/100\n",
      "5090096/5090096 [==============================] - 14s 3us/sample - loss: 0.0024 - tp: 4100.0000 - fp: 179.0000 - tn: 5083324.0000 - fn: 2493.0000 - accuracy: 0.9995 - precision: 0.9582 - recall: 0.6219 - auc: 0.9496 - val_loss: 0.0022 - val_tp: 515.0000 - val_fp: 13.0000 - val_tn: 635421.0000 - val_fn: 313.0000 - val_accuracy: 0.9995 - val_precision: 0.9754 - val_recall: 0.6220 - val_auc: 0.9456\n",
      "Epoch 9/100\n",
      "5090096/5090096 [==============================] - 14s 3us/sample - loss: 0.0024 - tp: 4135.0000 - fp: 184.0000 - tn: 5083319.0000 - fn: 2458.0000 - accuracy: 0.9995 - precision: 0.9574 - recall: 0.6272 - auc: 0.9523 - val_loss: 0.0020 - val_tp: 547.0000 - val_fp: 14.0000 - val_tn: 635420.0000 - val_fn: 281.0000 - val_accuracy: 0.9995 - val_precision: 0.9750 - val_recall: 0.6606 - val_auc: 0.9587\n",
      "Epoch 10/100\n",
      "5090096/5090096 [==============================] - 14s 3us/sample - loss: 0.0023 - tp: 4192.0000 - fp: 185.0000 - tn: 5083318.0000 - fn: 2401.0000 - accuracy: 0.9995 - precision: 0.9577 - recall: 0.6358 - auc: 0.9556 - val_loss: 0.0020 - val_tp: 531.0000 - val_fp: 11.0000 - val_tn: 635423.0000 - val_fn: 297.0000 - val_accuracy: 0.9995 - val_precision: 0.9797 - val_recall: 0.6413 - val_auc: 0.9617\n",
      "Epoch 11/100\n",
      "5090096/5090096 [==============================] - 14s 3us/sample - loss: 0.0023 - tp: 4215.0000 - fp: 203.0000 - tn: 5083300.0000 - fn: 2378.0000 - accuracy: 0.9995 - precision: 0.9541 - recall: 0.6393 - auc: 0.9576 - val_loss: 0.0020 - val_tp: 525.0000 - val_fp: 8.0000 - val_tn: 635426.0000 - val_fn: 303.0000 - val_accuracy: 0.9995 - val_precision: 0.9850 - val_recall: 0.6341 - val_auc: 0.9458\n",
      "Epoch 12/100\n",
      "5090096/5090096 [==============================] - 14s 3us/sample - loss: 0.0023 - tp: 4229.0000 - fp: 224.0000 - tn: 5083279.0000 - fn: 2364.0000 - accuracy: 0.9995 - precision: 0.9497 - recall: 0.6414 - auc: 0.9551 - val_loss: 0.0019 - val_tp: 543.0000 - val_fp: 11.0000 - val_tn: 635423.0000 - val_fn: 285.0000 - val_accuracy: 0.9995 - val_precision: 0.9801 - val_recall: 0.6558 - val_auc: 0.9636\n",
      "Epoch 13/100\n",
      "5090096/5090096 [==============================] - 14s 3us/sample - loss: 0.0023 - tp: 4251.0000 - fp: 198.0000 - tn: 5083305.0000 - fn: 2342.0000 - accuracy: 0.9995 - precision: 0.9555 - recall: 0.6448 - auc: 0.9558 - val_loss: 0.0020 - val_tp: 549.0000 - val_fp: 19.0000 - val_tn: 635415.0000 - val_fn: 279.0000 - val_accuracy: 0.9995 - val_precision: 0.9665 - val_recall: 0.6630 - val_auc: 0.9581\n",
      "Epoch 14/100\n",
      "5090096/5090096 [==============================] - 14s 3us/sample - loss: 0.0023 - tp: 4279.0000 - fp: 218.0000 - tn: 5083285.0000 - fn: 2314.0000 - accuracy: 0.9995 - precision: 0.9515 - recall: 0.6490 - auc: 0.9584 - val_loss: 0.0019 - val_tp: 537.0000 - val_fp: 10.0000 - val_tn: 635424.0000 - val_fn: 291.0000 - val_accuracy: 0.9995 - val_precision: 0.9817 - val_recall: 0.6486 - val_auc: 0.9712\n",
      "Epoch 15/100\n",
      "5090096/5090096 [==============================] - 14s 3us/sample - loss: 0.0022 - tp: 4292.0000 - fp: 199.0000 - tn: 5083304.0000 - fn: 2301.0000 - accuracy: 0.9995 - precision: 0.9557 - recall: 0.6510 - auc: 0.9602 - val_loss: 0.0023 - val_tp: 550.0000 - val_fp: 51.0000 - val_tn: 635383.0000 - val_fn: 278.0000 - val_accuracy: 0.9995 - val_precision: 0.9151 - val_recall: 0.6643 - val_auc: 0.9394\n",
      "Epoch 16/100\n",
      "5090096/5090096 [==============================] - 14s 3us/sample - loss: 0.0022 - tp: 4323.0000 - fp: 204.0000 - tn: 5083299.0000 - fn: 2270.0000 - accuracy: 0.9995 - precision: 0.9549 - recall: 0.6557 - auc: 0.9610 - val_loss: 0.0020 - val_tp: 546.0000 - val_fp: 15.0000 - val_tn: 635419.0000 - val_fn: 282.0000 - val_accuracy: 0.9995 - val_precision: 0.9733 - val_recall: 0.6594 - val_auc: 0.9463\n",
      "Epoch 17/100\n",
      "5090096/5090096 [==============================] - 14s 3us/sample - loss: 0.0022 - tp: 4321.0000 - fp: 218.0000 - tn: 5083285.0000 - fn: 2272.0000 - accuracy: 0.9995 - precision: 0.9520 - recall: 0.6554 - auc: 0.9599 - val_loss: 0.0019 - val_tp: 569.0000 - val_fp: 26.0000 - val_tn: 635408.0000 - val_fn: 259.0000 - val_accuracy: 0.9996 - val_precision: 0.9563 - val_recall: 0.6872 - val_auc: 0.9678\n",
      "Epoch 18/100\n",
      "5090096/5090096 [==============================] - 14s 3us/sample - loss: 0.0022 - tp: 4349.0000 - fp: 202.0000 - tn: 5083301.0000 - fn: 2244.0000 - accuracy: 0.9995 - precision: 0.9556 - recall: 0.6596 - auc: 0.9608 - val_loss: 0.0019 - val_tp: 547.0000 - val_fp: 13.0000 - val_tn: 635421.0000 - val_fn: 281.0000 - val_accuracy: 0.9995 - val_precision: 0.9768 - val_recall: 0.6606 - val_auc: 0.9650\n",
      "Epoch 19/100\n",
      "5090096/5090096 [==============================] - 14s 3us/sample - loss: 0.0022 - tp: 4371.0000 - fp: 211.0000 - tn: 5083292.0000 - fn: 2222.0000 - accuracy: 0.9995 - precision: 0.9540 - recall: 0.6630 - auc: 0.9628 - val_loss: 0.0020 - val_tp: 532.0000 - val_fp: 8.0000 - val_tn: 635426.0000 - val_fn: 296.0000 - val_accuracy: 0.9995 - val_precision: 0.9852 - val_recall: 0.6425 - val_auc: 0.9452\n",
      "Epoch 20/100\n",
      "5090096/5090096 [==============================] - 14s 3us/sample - loss: 0.0021 - tp: 4386.0000 - fp: 225.0000 - tn: 5083278.0000 - fn: 2207.0000 - accuracy: 0.9995 - precision: 0.9512 - recall: 0.6653 - auc: 0.9621 - val_loss: 0.0019 - val_tp: 571.0000 - val_fp: 19.0000 - val_tn: 635415.0000 - val_fn: 257.0000 - val_accuracy: 0.9996 - val_precision: 0.9678 - val_recall: 0.6896 - val_auc: 0.9910\n"
     ]
    },
    {
     "name": "stdout",
     "output_type": "stream",
     "text": [
      "Epoch 21/100\n",
      "5090096/5090096 [==============================] - 13s 3us/sample - loss: 0.0021 - tp: 4377.0000 - fp: 210.0000 - tn: 5083293.0000 - fn: 2216.0000 - accuracy: 0.9995 - precision: 0.9542 - recall: 0.6639 - auc: 0.9644 - val_loss: 0.0018 - val_tp: 572.0000 - val_fp: 27.0000 - val_tn: 635407.0000 - val_fn: 256.0000 - val_accuracy: 0.9996 - val_precision: 0.9549 - val_recall: 0.6908 - val_auc: 0.9803\n",
      "Epoch 22/100\n",
      "5090096/5090096 [==============================] - 14s 3us/sample - loss: 0.0021 - tp: 4410.0000 - fp: 211.0000 - tn: 5083292.0000 - fn: 2183.0000 - accuracy: 0.9995 - precision: 0.9543 - recall: 0.6689 - auc: 0.9648 - val_loss: 0.0018 - val_tp: 558.0000 - val_fp: 18.0000 - val_tn: 635416.0000 - val_fn: 270.0000 - val_accuracy: 0.9995 - val_precision: 0.9688 - val_recall: 0.6739 - val_auc: 0.9710\n",
      "Epoch 23/100\n",
      "5090096/5090096 [==============================] - 14s 3us/sample - loss: 0.0021 - tp: 4394.0000 - fp: 214.0000 - tn: 5083289.0000 - fn: 2199.0000 - accuracy: 0.9995 - precision: 0.9536 - recall: 0.6665 - auc: 0.9649 - val_loss: 0.0018 - val_tp: 558.0000 - val_fp: 19.0000 - val_tn: 635415.0000 - val_fn: 270.0000 - val_accuracy: 0.9995 - val_precision: 0.9671 - val_recall: 0.6739 - val_auc: 0.9702\n",
      "Epoch 24/100\n",
      "5090096/5090096 [==============================] - 14s 3us/sample - loss: 0.0021 - tp: 4427.0000 - fp: 229.0000 - tn: 5083274.0000 - fn: 2166.0000 - accuracy: 0.9995 - precision: 0.9508 - recall: 0.6715 - auc: 0.9644 - val_loss: 0.0018 - val_tp: 531.0000 - val_fp: 9.0000 - val_tn: 635425.0000 - val_fn: 297.0000 - val_accuracy: 0.9995 - val_precision: 0.9833 - val_recall: 0.6413 - val_auc: 0.9722\n",
      "Epoch 25/100\n",
      "5090096/5090096 [==============================] - 14s 3us/sample - loss: 0.0021 - tp: 4449.0000 - fp: 206.0000 - tn: 5083297.0000 - fn: 2144.0000 - accuracy: 0.9995 - precision: 0.9557 - recall: 0.6748 - auc: 0.9682 - val_loss: 0.0021 - val_tp: 514.0000 - val_fp: 8.0000 - val_tn: 635426.0000 - val_fn: 314.0000 - val_accuracy: 0.9995 - val_precision: 0.9847 - val_recall: 0.6208 - val_auc: 0.9469\n",
      "Epoch 26/100\n",
      "5090096/5090096 [==============================] - 14s 3us/sample - loss: 0.0021 - tp: 4454.0000 - fp: 210.0000 - tn: 5083293.0000 - fn: 2139.0000 - accuracy: 0.9995 - precision: 0.9550 - recall: 0.6756 - auc: 0.9649 - val_loss: 0.0018 - val_tp: 599.0000 - val_fp: 27.0000 - val_tn: 635407.0000 - val_fn: 229.0000 - val_accuracy: 0.9996 - val_precision: 0.9569 - val_recall: 0.7234 - val_auc: 0.9768\n",
      "Epoch 27/100\n",
      "5090096/5090096 [==============================] - 12s 2us/sample - loss: 0.0021 - tp: 4443.0000 - fp: 236.0000 - tn: 5083267.0000 - fn: 2150.0000 - accuracy: 0.9995 - precision: 0.9496 - recall: 0.6739 - auc: 0.9668 - val_loss: 0.0017 - val_tp: 583.0000 - val_fp: 15.0000 - val_tn: 635419.0000 - val_fn: 245.0000 - val_accuracy: 0.9996 - val_precision: 0.9749 - val_recall: 0.7041 - val_auc: 0.9650\n",
      "Epoch 28/100\n",
      "5090096/5090096 [==============================] - 12s 2us/sample - loss: 0.0020 - tp: 4477.0000 - fp: 217.0000 - tn: 5083286.0000 - fn: 2116.0000 - accuracy: 0.9995 - precision: 0.9538 - recall: 0.6791 - auc: 0.9678 - val_loss: 0.0017 - val_tp: 585.0000 - val_fp: 14.0000 - val_tn: 635420.0000 - val_fn: 243.0000 - val_accuracy: 0.9996 - val_precision: 0.9766 - val_recall: 0.7065 - val_auc: 0.9847\n",
      "Epoch 29/100\n",
      "5090096/5090096 [==============================] - 12s 2us/sample - loss: 0.0021 - tp: 4448.0000 - fp: 235.0000 - tn: 5083268.0000 - fn: 2145.0000 - accuracy: 0.9995 - precision: 0.9498 - recall: 0.6747 - auc: 0.9693 - val_loss: 0.0019 - val_tp: 567.0000 - val_fp: 20.0000 - val_tn: 635414.0000 - val_fn: 261.0000 - val_accuracy: 0.9996 - val_precision: 0.9659 - val_recall: 0.6848 - val_auc: 0.9551\n",
      "Epoch 30/100\n",
      "5090096/5090096 [==============================] - 12s 2us/sample - loss: 0.0020 - tp: 4482.0000 - fp: 205.0000 - tn: 5083298.0000 - fn: 2111.0000 - accuracy: 0.9995 - precision: 0.9563 - recall: 0.6798 - auc: 0.9682 - val_loss: 0.0018 - val_tp: 544.0000 - val_fp: 11.0000 - val_tn: 635423.0000 - val_fn: 284.0000 - val_accuracy: 0.9995 - val_precision: 0.9802 - val_recall: 0.6570 - val_auc: 0.9573\n",
      "Epoch 31/100\n",
      "5090096/5090096 [==============================] - 12s 2us/sample - loss: 0.0021 - tp: 4494.0000 - fp: 226.0000 - tn: 5083277.0000 - fn: 2099.0000 - accuracy: 0.9995 - precision: 0.9521 - recall: 0.6816 - auc: 0.9662 - val_loss: 0.0018 - val_tp: 611.0000 - val_fp: 53.0000 - val_tn: 635381.0000 - val_fn: 217.0000 - val_accuracy: 0.9996 - val_precision: 0.9202 - val_recall: 0.7379 - val_auc: 0.9714\n",
      "Epoch 32/100\n",
      "5090096/5090096 [==============================] - 12s 2us/sample - loss: 0.0020 - tp: 4501.0000 - fp: 240.0000 - tn: 5083263.0000 - fn: 2092.0000 - accuracy: 0.9995 - precision: 0.9494 - recall: 0.6827 - auc: 0.9706 - val_loss: 0.0018 - val_tp: 566.0000 - val_fp: 20.0000 - val_tn: 635414.0000 - val_fn: 262.0000 - val_accuracy: 0.9996 - val_precision: 0.9659 - val_recall: 0.6836 - val_auc: 0.9715\n",
      "Epoch 33/100\n",
      "5090096/5090096 [==============================] - 12s 2us/sample - loss: 0.0020 - tp: 4512.0000 - fp: 227.0000 - tn: 5083276.0000 - fn: 2081.0000 - accuracy: 0.9995 - precision: 0.9521 - recall: 0.6844 - auc: 0.9707 - val_loss: 0.0018 - val_tp: 550.0000 - val_fp: 15.0000 - val_tn: 635419.0000 - val_fn: 278.0000 - val_accuracy: 0.9995 - val_precision: 0.9735 - val_recall: 0.6643 - val_auc: 0.9657\n",
      "Epoch 34/100\n",
      "5090096/5090096 [==============================] - 12s 2us/sample - loss: 0.0020 - tp: 4509.0000 - fp: 209.0000 - tn: 5083294.0000 - fn: 2084.0000 - accuracy: 0.9995 - precision: 0.9557 - recall: 0.6839 - auc: 0.9702 - val_loss: 0.0017 - val_tp: 561.0000 - val_fp: 11.0000 - val_tn: 635423.0000 - val_fn: 267.0000 - val_accuracy: 0.9996 - val_precision: 0.9808 - val_recall: 0.6775 - val_auc: 0.9693\n",
      "Epoch 35/100\n",
      "5090096/5090096 [==============================] - 12s 2us/sample - loss: 0.0020 - tp: 4506.0000 - fp: 223.0000 - tn: 5083280.0000 - fn: 2087.0000 - accuracy: 0.9995 - precision: 0.9528 - recall: 0.6835 - auc: 0.9719 - val_loss: 0.0017 - val_tp: 579.0000 - val_fp: 12.0000 - val_tn: 635422.0000 - val_fn: 249.0000 - val_accuracy: 0.9996 - val_precision: 0.9797 - val_recall: 0.6993 - val_auc: 0.9723\n",
      "Epoch 36/100\n",
      "5090096/5090096 [==============================] - 12s 2us/sample - loss: 0.0020 - tp: 4519.0000 - fp: 239.0000 - tn: 5083264.0000 - fn: 2074.0000 - accuracy: 0.9995 - precision: 0.9498 - recall: 0.6854 - auc: 0.9696 - val_loss: 0.0019 - val_tp: 605.0000 - val_fp: 44.0000 - val_tn: 635390.0000 - val_fn: 223.0000 - val_accuracy: 0.9996 - val_precision: 0.9322 - val_recall: 0.7307 - val_auc: 0.9677\n",
      "Epoch 37/100\n",
      "5090096/5090096 [==============================] - 12s 2us/sample - loss: 0.0020 - tp: 4532.0000 - fp: 228.0000 - tn: 5083275.0000 - fn: 2061.0000 - accuracy: 0.9996 - precision: 0.9521 - recall: 0.6874 - auc: 0.9703 - val_loss: 0.0018 - val_tp: 540.0000 - val_fp: 11.0000 - val_tn: 635423.0000 - val_fn: 288.0000 - val_accuracy: 0.9995 - val_precision: 0.9800 - val_recall: 0.6522 - val_auc: 0.9694\n",
      "Epoch 38/100\n",
      "5090096/5090096 [==============================] - 12s 2us/sample - loss: 0.0020 - tp: 4563.0000 - fp: 225.0000 - tn: 5083278.0000 - fn: 2030.0000 - accuracy: 0.9996 - precision: 0.9530 - recall: 0.6921 - auc: 0.9696 - val_loss: 0.0019 - val_tp: 547.0000 - val_fp: 7.0000 - val_tn: 635427.0000 - val_fn: 281.0000 - val_accuracy: 0.9995 - val_precision: 0.9874 - val_recall: 0.6606 - val_auc: 0.9603\n",
      "Epoch 39/100\n",
      "5090096/5090096 [==============================] - 12s 2us/sample - loss: 0.0020 - tp: 4554.0000 - fp: 239.0000 - tn: 5083264.0000 - fn: 2039.0000 - accuracy: 0.9996 - precision: 0.9501 - recall: 0.6907 - auc: 0.9699 - val_loss: 0.0018 - val_tp: 557.0000 - val_fp: 10.0000 - val_tn: 635424.0000 - val_fn: 271.0000 - val_accuracy: 0.9996 - val_precision: 0.9824 - val_recall: 0.6727 - val_auc: 0.9549\n",
      "Epoch 40/100\n",
      "5085184/5090096 [============================>.] - ETA: 0s - loss: 0.0020 - tp: 4545.0000 - fp: 232.0000 - tn: 5078368.0000 - fn: 2039.0000 - accuracy: 0.9996 - precision: 0.9514 - recall: 0.6903 - auc: 0.9711Restoring model weights from the end of the best epoch.\n",
      "5090096/5090096 [==============================] - 12s 2us/sample - loss: 0.0020 - tp: 4554.0000 - fp: 234.0000 - tn: 5083269.0000 - fn: 2039.0000 - accuracy: 0.9996 - precision: 0.9511 - recall: 0.6907 - auc: 0.9712 - val_loss: 0.0018 - val_tp: 565.0000 - val_fp: 17.0000 - val_tn: 635417.0000 - val_fn: 263.0000 - val_accuracy: 0.9996 - val_precision: 0.9708 - val_recall: 0.6824 - val_auc: 0.9689\n"
     ]
    },
    {
     "name": "stdout",
     "output_type": "stream",
     "text": [
      "Epoch 00040: early stopping\n"
     ]
    }
   ],
   "source": [
    "model = make_model()\n",
    "model.load_weights(initial_weights)\n",
    "baseline_history = model.fit(\n",
    "    X_train,\n",
    "    Y_train,\n",
    "    batch_size=BATCH_SIZE,\n",
    "    epochs=EPOCHS,\n",
    "    callbacks = [early_stopping],\n",
    "    validation_data=(X_dev, Y_dev))"
   ]
  },
  {
   "cell_type": "code",
   "execution_count": 112,
   "metadata": {},
   "outputs": [],
   "source": [
    "def plot_metrics(history):\n",
    "    metrics =  ['loss', 'auc', 'precision', 'recall']\n",
    "    \n",
    "    for n, metric in enumerate(metrics):\n",
    "        name = metric.replace(\"_\",\" \").capitalize()\n",
    "        plt.subplot(2,2,n+1)\n",
    "        plt.plot(history.epoch,  history.history[metric], color=colors[0], label='Train')\n",
    "        plt.plot(history.epoch, history.history['val_'+metric],\n",
    "             color=colors[0], linestyle=\"--\", label='Val')\n",
    "        plt.xlabel('Epoch')\n",
    "        plt.ylabel(name)\n",
    "        \n",
    "        if metric == 'loss':\n",
    "            plt.ylim([0, plt.ylim()[1]])\n",
    "        elif metric == 'auc':\n",
    "            plt.ylim([0.8,1])\n",
    "        else:\n",
    "            plt.ylim([0,1])\n",
    "\n",
    "        plt.legend()"
   ]
  },
  {
   "cell_type": "code",
   "execution_count": 157,
   "metadata": {},
   "outputs": [
    {
     "data": {
      "image/png": "[encoded data removed]",
      "text/plain": [
       "<Figure size 864x720 with 4 Axes>"
      ]
     },
     "metadata": {
      "needs_background": "light"
     },
     "output_type": "display_data"
    }
   ],
   "source": [
    "plot_metrics(baseline_history)"
   ]
  },
  {
   "cell_type": "markdown",
   "metadata": {},
   "source": [
    "## Model assessment"
   ]
  },
  {
   "cell_type": "code",
   "execution_count": 5,
   "metadata": {},
   "outputs": [
    {
     "data": {
      "text/html": [
       "<div>\n",
       "<style scoped>\n",
       "    .dataframe tbody tr th:only-of-type {\n",
       "        vertical-align: middle;\n",
       "    }\n",
       "\n",
       "    .dataframe tbody tr th {\n",
       "        vertical-align: top;\n",
       "    }\n",
       "\n",
       "    .dataframe thead th {\n",
       "        text-align: right;\n",
       "    }\n",
       "</style>\n",
       "<table border=\"1\" class=\"dataframe\">\n",
       "  <thead>\n",
       "    <tr style=\"text-align: right;\">\n",
       "      <th></th>\n",
       "      <th>learning_rate</th>\n",
       "      <th>L1</th>\n",
       "      <th>Dropout_L1</th>\n",
       "      <th>L2</th>\n",
       "      <th>Dropout_L2</th>\n",
       "      <th>L3</th>\n",
       "      <th>Dropout_L3</th>\n",
       "      <th>L4</th>\n",
       "      <th>Early_Stopping</th>\n",
       "      <th>loss</th>\n",
       "      <th>acc</th>\n",
       "      <th>prec</th>\n",
       "      <th>recall</th>\n",
       "      <th>auc</th>\n",
       "      <th>loss_val</th>\n",
       "      <th>acc_val</th>\n",
       "      <th>prec_val</th>\n",
       "      <th>recall_val</th>\n",
       "      <th>auc_val</th>\n",
       "    </tr>\n",
       "  </thead>\n",
       "  <tbody>\n",
       "  </tbody>\n",
       "</table>\n",
       "</div>"
      ],
      "text/plain": [
       "Empty DataFrame\n",
       "Columns: [learning_rate, L1, Dropout_L1, L2, Dropout_L2, L3, Dropout_L3, L4, Early_Stopping, loss, acc, prec, recall, auc, loss_val, acc_val, prec_val, recall_val, auc_val]\n",
       "Index: []"
      ]
     },
     "execution_count": 5,
     "metadata": {},
     "output_type": "execute_result"
    }
   ],
   "source": [
    "assessment_factors = ['learning_rate', 'L1', 'Dropout_L1', 'L2', 'Dropout_L2', 'L3', 'Dropout_L3', 'L4', 'Early_Stopping', 'loss', 'acc', 'prec', 'recall', 'auc', 'loss_val', 'acc_val', 'prec_val', 'recall_val', 'auc_val']\n",
    "df_assessment = pd.DataFrame(columns=assessment_factors)\n",
    "df_assessment"
   ]
  },
  {
   "cell_type": "code",
   "execution_count": 158,
   "metadata": {},
   "outputs": [
    {
     "data": {
      "text/html": [
       "<div>\n",
       "<style scoped>\n",
       "    .dataframe tbody tr th:only-of-type {\n",
       "        vertical-align: middle;\n",
       "    }\n",
       "\n",
       "    .dataframe tbody tr th {\n",
       "        vertical-align: top;\n",
       "    }\n",
       "\n",
       "    .dataframe thead th {\n",
       "        text-align: right;\n",
       "    }\n",
       "</style>\n",
       "<table border=\"1\" class=\"dataframe\">\n",
       "  <thead>\n",
       "    <tr style=\"text-align: right;\">\n",
       "      <th></th>\n",
       "      <th>learning_rate</th>\n",
       "      <th>L1</th>\n",
       "      <th>Dropout_L1</th>\n",
       "      <th>L2</th>\n",
       "      <th>Dropout_L2</th>\n",
       "      <th>L3</th>\n",
       "      <th>Dropout_L3</th>\n",
       "      <th>L4</th>\n",
       "      <th>Early_Stopping</th>\n",
       "      <th>loss</th>\n",
       "      <th>acc</th>\n",
       "      <th>prec</th>\n",
       "      <th>recall</th>\n",
       "      <th>auc</th>\n",
       "      <th>loss_val</th>\n",
       "      <th>acc_val</th>\n",
       "      <th>prec_val</th>\n",
       "      <th>recall_val</th>\n",
       "      <th>auc_val</th>\n",
       "    </tr>\n",
       "  </thead>\n",
       "  <tbody>\n",
       "    <tr>\n",
       "      <th>0</th>\n",
       "      <td>0,001</td>\n",
       "      <td>16</td>\n",
       "      <td>0.25</td>\n",
       "      <td>1</td>\n",
       "      <td>NaN</td>\n",
       "      <td>None</td>\n",
       "      <td>None</td>\n",
       "      <td>None</td>\n",
       "      <td>20</td>\n",
       "      <td>0.0021</td>\n",
       "      <td>0.9995</td>\n",
       "      <td>0.9491</td>\n",
       "      <td>0.6668</td>\n",
       "      <td>0.9726</td>\n",
       "      <td>0.0017</td>\n",
       "      <td>0.9996</td>\n",
       "      <td>0.9876</td>\n",
       "      <td>0.6751</td>\n",
       "      <td>0.9759</td>\n",
       "    </tr>\n",
       "    <tr>\n",
       "      <th>1</th>\n",
       "      <td>0,001</td>\n",
       "      <td>16</td>\n",
       "      <td>None</td>\n",
       "      <td>1</td>\n",
       "      <td>NaN</td>\n",
       "      <td>None</td>\n",
       "      <td>None</td>\n",
       "      <td>None</td>\n",
       "      <td>20</td>\n",
       "      <td>0.0018</td>\n",
       "      <td>0.9996</td>\n",
       "      <td>0.9745</td>\n",
       "      <td>0.6954</td>\n",
       "      <td>0.9812</td>\n",
       "      <td>0.0016</td>\n",
       "      <td>0.9996</td>\n",
       "      <td>0.9896</td>\n",
       "      <td>0.6920</td>\n",
       "      <td>0.9818</td>\n",
       "    </tr>\n",
       "    <tr>\n",
       "      <th>2</th>\n",
       "      <td>0,001</td>\n",
       "      <td>16</td>\n",
       "      <td>0.25</td>\n",
       "      <td>32</td>\n",
       "      <td>0.25</td>\n",
       "      <td>1</td>\n",
       "      <td>None</td>\n",
       "      <td>None</td>\n",
       "      <td>10</td>\n",
       "      <td>0.0024</td>\n",
       "      <td>0.9995</td>\n",
       "      <td>0.9259</td>\n",
       "      <td>0.6367</td>\n",
       "      <td>0.9541</td>\n",
       "      <td>0.0020</td>\n",
       "      <td>0.9995</td>\n",
       "      <td>0.9923</td>\n",
       "      <td>0.6232</td>\n",
       "      <td>0.9615</td>\n",
       "    </tr>\n",
       "    <tr>\n",
       "      <th>3</th>\n",
       "      <td>0,001</td>\n",
       "      <td>16</td>\n",
       "      <td>0.25</td>\n",
       "      <td>8</td>\n",
       "      <td>0.25</td>\n",
       "      <td>1</td>\n",
       "      <td>None</td>\n",
       "      <td>None</td>\n",
       "      <td>10</td>\n",
       "      <td>0.0026</td>\n",
       "      <td>0.9994</td>\n",
       "      <td>0.9240</td>\n",
       "      <td>0.6255</td>\n",
       "      <td>0.9559</td>\n",
       "      <td>0.0019</td>\n",
       "      <td>0.9996</td>\n",
       "      <td>0.9666</td>\n",
       "      <td>0.6981</td>\n",
       "      <td>0.9779</td>\n",
       "    </tr>\n",
       "    <tr>\n",
       "      <th>4</th>\n",
       "      <td>0,001</td>\n",
       "      <td>16</td>\n",
       "      <td>0</td>\n",
       "      <td>8</td>\n",
       "      <td>0</td>\n",
       "      <td>1</td>\n",
       "      <td>None</td>\n",
       "      <td>None</td>\n",
       "      <td>20</td>\n",
       "      <td>0.0018</td>\n",
       "      <td>0.9996</td>\n",
       "      <td>0.9611</td>\n",
       "      <td>0.7080</td>\n",
       "      <td>0.9747</td>\n",
       "      <td>0.0017</td>\n",
       "      <td>0.9996</td>\n",
       "      <td>0.9965</td>\n",
       "      <td>0.6884</td>\n",
       "      <td>0.9647</td>\n",
       "    </tr>\n",
       "    <tr>\n",
       "      <th>5</th>\n",
       "      <td>0,0025</td>\n",
       "      <td>16</td>\n",
       "      <td>0</td>\n",
       "      <td>8</td>\n",
       "      <td>0</td>\n",
       "      <td>1</td>\n",
       "      <td>None</td>\n",
       "      <td>None</td>\n",
       "      <td>20</td>\n",
       "      <td>0.0018</td>\n",
       "      <td>0.9996</td>\n",
       "      <td>0.9475</td>\n",
       "      <td>0.7118</td>\n",
       "      <td>0.9715</td>\n",
       "      <td>0.0019</td>\n",
       "      <td>0.9996</td>\n",
       "      <td>0.9150</td>\n",
       "      <td>0.7536</td>\n",
       "      <td>0.9689</td>\n",
       "    </tr>\n",
       "    <tr>\n",
       "      <th>6</th>\n",
       "      <td>0,0025</td>\n",
       "      <td>16</td>\n",
       "      <td>0</td>\n",
       "      <td>1</td>\n",
       "      <td>None</td>\n",
       "      <td>None</td>\n",
       "      <td>None</td>\n",
       "      <td>None</td>\n",
       "      <td>20</td>\n",
       "      <td>0.0018</td>\n",
       "      <td>0.9996</td>\n",
       "      <td>0.9605</td>\n",
       "      <td>0.7003</td>\n",
       "      <td>0.9779</td>\n",
       "      <td>0.0017</td>\n",
       "      <td>0.9996</td>\n",
       "      <td>0.9794</td>\n",
       "      <td>0.6884</td>\n",
       "      <td>0.9799</td>\n",
       "    </tr>\n",
       "    <tr>\n",
       "      <th>7</th>\n",
       "      <td>0,005</td>\n",
       "      <td>16</td>\n",
       "      <td>0</td>\n",
       "      <td>1</td>\n",
       "      <td>None</td>\n",
       "      <td>None</td>\n",
       "      <td>None</td>\n",
       "      <td>None</td>\n",
       "      <td>20</td>\n",
       "      <td>0.0020</td>\n",
       "      <td>0.9996</td>\n",
       "      <td>0.9511</td>\n",
       "      <td>0.6907</td>\n",
       "      <td>0.9712</td>\n",
       "      <td>0.0018</td>\n",
       "      <td>0.9996</td>\n",
       "      <td>0.9708</td>\n",
       "      <td>0.6824</td>\n",
       "      <td>0.9689</td>\n",
       "    </tr>\n",
       "  </tbody>\n",
       "</table>\n",
       "</div>"
      ],
      "text/plain": [
       "  learning_rate  L1 Dropout_L1  L2 Dropout_L2    L3 Dropout_L3    L4  \\\n",
       "0         0,001  16       0.25   1        NaN  None       None  None   \n",
       "1         0,001  16       None   1        NaN  None       None  None   \n",
       "2         0,001  16       0.25  32       0.25     1       None  None   \n",
       "3         0,001  16       0.25   8       0.25     1       None  None   \n",
       "4         0,001  16          0   8          0     1       None  None   \n",
       "5        0,0025  16          0   8          0     1       None  None   \n",
       "6        0,0025  16          0   1       None  None       None  None   \n",
       "7         0,005  16          0   1       None  None       None  None   \n",
       "\n",
       "  Early_Stopping    loss     acc    prec  recall     auc  loss_val  acc_val  \\\n",
       "0             20  0.0021  0.9995  0.9491  0.6668  0.9726    0.0017   0.9996   \n",
       "1             20  0.0018  0.9996  0.9745  0.6954  0.9812    0.0016   0.9996   \n",
       "2             10  0.0024  0.9995  0.9259  0.6367  0.9541    0.0020   0.9995   \n",
       "3             10  0.0026  0.9994  0.9240  0.6255  0.9559    0.0019   0.9996   \n",
       "4             20  0.0018  0.9996  0.9611  0.7080  0.9747    0.0017   0.9996   \n",
       "5             20  0.0018  0.9996  0.9475  0.7118  0.9715    0.0019   0.9996   \n",
       "6             20  0.0018  0.9996  0.9605  0.7003  0.9779    0.0017   0.9996   \n",
       "7             20  0.0020  0.9996  0.9511  0.6907  0.9712    0.0018   0.9996   \n",
       "\n",
       "   prec_val  recall_val  auc_val  \n",
       "0    0.9876      0.6751   0.9759  \n",
       "1    0.9896      0.6920   0.9818  \n",
       "2    0.9923      0.6232   0.9615  \n",
       "3    0.9666      0.6981   0.9779  \n",
       "4    0.9965      0.6884   0.9647  \n",
       "5    0.9150      0.7536   0.9689  \n",
       "6    0.9794      0.6884   0.9799  \n",
       "7    0.9708      0.6824   0.9689  "
      ]
     },
     "execution_count": 158,
     "metadata": {},
     "output_type": "execute_result"
    }
   ],
   "source": [
    "assessment = ['0,005', 16, 0., 1, None, None, None, None, 20, 0.0020, 0.9996, 0.9511, 0.6907, 0.9712, 0.0018, 0.9996, 0.9708, 0.6824, 0.9689]\n",
    "df_assessment.loc[len(df_assessment)] = assessment\n",
    "df_assessment"
   ]
  }
 ],
 "metadata": {
  "kernelspec": {
   "display_name": "jupenv370",
   "language": "python",
   "name": "jupenv370"
  },
  "language_info": {
   "codemirror_mode": {
    "name": "ipython",
    "version": 3
   },
   "file_extension": ".py",
   "mimetype": "text/x-python",
   "name": "python",
   "nbconvert_exporter": "python",
   "pygments_lexer": "ipython3",
   "version": "3.7.4"
  }
 },
 "nbformat": 4,
 "nbformat_minor": 2
}
